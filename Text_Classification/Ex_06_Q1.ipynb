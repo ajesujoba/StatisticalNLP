{
  "nbformat": 4,
  "nbformat_minor": 0,
  "metadata": {
    "colab": {
      "name": "Copy of Ex_06_Q1.ipynb",
      "version": "0.3.2",
      "provenance": [],
      "collapsed_sections": []
    },
    "language_info": {
      "codemirror_mode": {
        "name": "ipython",
        "version": 3
      },
      "file_extension": ".py",
      "mimetype": "text/x-python",
      "name": "python",
      "nbconvert_exporter": "python",
      "pygments_lexer": "ipython3",
      "version": "3.7.1"
    },
    "kernelspec": {
      "name": "python3",
      "display_name": "Python 3"
    },
    "accelerator": "GPU"
  },
  "cells": [
    {
      "cell_type": "markdown",
      "metadata": {
        "colab_type": "text",
        "id": "VIhJ3kmrrXOX"
      },
      "source": [
        "#Import needed modules"
      ]
    },
    {
      "cell_type": "code",
      "metadata": {
        "colab_type": "code",
        "id": "Jvfry6sGTlTx",
        "colab": {}
      },
      "source": [
        "import math\n",
        "import re\n",
        "from collections import defaultdict, Counter\n",
        "from nltk import ngrams\n",
        "import pandas as pd\n",
        "import glob as gb\n",
        "import numpy as np\n",
        "import matplotlib.pyplot as plt\n",
        "import pandas as pd"
      ],
      "execution_count": 0,
      "outputs": []
    },
    {
      "cell_type": "code",
      "metadata": {
        "colab_type": "code",
        "id": "szfxoWmyK0ej",
        "colab": {}
      },
      "source": [
        "with open('corpus.sent.en.train', 'r', encoding='utf8') as f:\n",
        "    lines = f.readlines()\n",
        "    "
      ],
      "execution_count": 0,
      "outputs": []
    },
    {
      "cell_type": "markdown",
      "metadata": {
        "colab_type": "text",
        "id": "rUoyT-ztU7Y9"
      },
      "source": [
        "#Tokenizer"
      ]
    },
    {
      "cell_type": "code",
      "metadata": {
        "colab_type": "code",
        "id": "z9IxA7kiU14Z",
        "colab": {}
      },
      "source": [
        "def tokenize(text):\n",
        "    \"List all the word tokens (consecutive letters) in a text. Normalize to lowercase.\"\n",
        "    return re.findall('[a-z]+', text.lower())"
      ],
      "execution_count": 0,
      "outputs": []
    },
    {
      "cell_type": "markdown",
      "metadata": {
        "colab_type": "text",
        "id": "Seg4g78GVXZP"
      },
      "source": [
        "#word-gram method"
      ]
    },
    {
      "cell_type": "code",
      "metadata": {
        "colab_type": "code",
        "id": "hj8vqP51U-oK",
        "colab": {}
      },
      "source": [
        "def word_ngrams(sent, n):\n",
        "    \"\"\"Givne a sent as str return n-grams as a list of tuple\"\"\"\n",
        "    \n",
        "    # EXAMPLES \n",
        "    # > word_ngrams('hello world', 1)\n",
        "    # [('hello',), ('world',)]\n",
        "    # > word_ngrams('hello world', 2)\n",
        "    # [('<s>', 'hello'), ('hello', 'world'), ('world', '</s>')]\n",
        "\n",
        "    # YOUR CODE HERE\n",
        "    tp=()\n",
        "    listtp= []\n",
        "    token = tokenize(sent)\n",
        "    #if it is not 1-gram append <s> to the begining and </s> at the end\n",
        "    if(n!=1):\n",
        "        for x in range(n-1):\n",
        "            token.insert(0,\"<s>\")\n",
        "        token.append(\"</s>\")\n",
        "    \n",
        "    #generate n-grams using the zip function in python\n",
        "    ngrams = zip(*[token[i:] for i in range(n)])\n",
        "    \n",
        "    #loop through the n-grams generated and create list of tuples\n",
        "    for ngram in ngrams:\n",
        "        listtp.append(ngram)\n",
        "        \n",
        "    return listtp"
      ],
      "execution_count": 0,
      "outputs": []
    },
    {
      "cell_type": "code",
      "metadata": {
        "colab_type": "code",
        "id": "D-6iLooHVb1f",
        "colab": {}
      },
      "source": [
        "#We declare this method to generate the n-grams assisting the \n",
        "def getGram(lines, n):\n",
        "    bigramst=[]\n",
        "    if type(lines) == list:\n",
        "        for sentences in lines:\n",
        "            bg=word_ngrams(sentences, n)\n",
        "            bigramst+=bg\n",
        "    else:\n",
        "        bigramst = word_ngrams(lines, n)\n",
        "    return bigramst"
      ],
      "execution_count": 0,
      "outputs": []
    },
    {
      "cell_type": "code",
      "metadata": {
        "colab_type": "code",
        "id": "783j8JvzWxFZ",
        "scrolled": true,
        "colab": {}
      },
      "source": [
        "# ADD YOUR CODE TO COLLECT COUTNS AND CONSTRUCT VOCAB\n",
        "one_gram = getGram(lines, 1)\n",
        "two_gram = getGram(lines, 2)\n",
        "ugCount=Counter(one_gram)\n",
        "bgCount=Counter(two_gram)"
      ],
      "execution_count": 0,
      "outputs": []
    },
    {
      "cell_type": "code",
      "metadata": {
        "colab_type": "code",
        "id": "6zgeUpcMbyIn",
        "colab": {}
      },
      "source": [
        "#     total_counts = sum(ngram_counts.values())\n",
        "onevocab=vocab = list(ugCount.keys())\n",
        "\n",
        "biVocab = []\n",
        "for key in ugCount.keys():\n",
        "    biVocab.extend(tokenize(str(key)))\n",
        "\n",
        "biVocab.append('<s>')\n",
        "biVocab.append('</s>')\n",
        "\n"
      ],
      "execution_count": 0,
      "outputs": []
    },
    {
      "cell_type": "markdown",
      "metadata": {
        "id": "BENw3MkF6tzI",
        "colab_type": "text"
      },
      "source": [
        "The functions for the probabilties start here"
      ]
    },
    {
      "cell_type": "code",
      "metadata": {
        "id": "-LAuk0V-jwLM",
        "colab_type": "code",
        "colab": {}
      },
      "source": [
        "#function N for the number of count of word w\n",
        "def N(word):\n",
        "  N=ugCount[(word,)]\n",
        "  return N\n",
        "  "
      ],
      "execution_count": 0,
      "outputs": []
    },
    {
      "cell_type": "code",
      "metadata": {
        "id": "CFlLWkhKkuIv",
        "colab_type": "code",
        "outputId": "f47d1369-0bed-4b22-e7f3-42d4c4e0bc48",
        "colab": {
          "base_uri": "https://localhost:8080/",
          "height": 52
        }
      },
      "source": [
        "print(\"N('york') = \"+str(N('york')))\n",
        "print(\"N('matter') = \"+str(N('matter')))"
      ],
      "execution_count": 0,
      "outputs": [
        {
          "output_type": "stream",
          "text": [
            "N('york') = 2374\n",
            "N('matter') = 2367\n"
          ],
          "name": "stdout"
        }
      ]
    },
    {
      "cell_type": "code",
      "metadata": {
        "id": "4gNAb3u-muYG",
        "colab_type": "code",
        "colab": {}
      },
      "source": [
        "#create a count dictionary for all words in the bigram when they are the centre word\n",
        "histCount = Counter()\n",
        "centreWordCount = Counter()\n",
        "prefixWordCount = Counter()\n",
        "for key, value in bgCount.items():\n",
        "  histCount[key[:-1]] += value\n",
        "for key, value in bgCount.items():\n",
        "  centreWordCount[key[1]] += value\n",
        "for key, value in bgCount.items():\n",
        "  prefixWordCount[key[1]] += 1"
      ],
      "execution_count": 0,
      "outputs": []
    },
    {
      "cell_type": "code",
      "metadata": {
        "id": "KAIP4m_XkJc5",
        "colab_type": "code",
        "colab": {}
      },
      "source": [
        "#Number of count N1+\n",
        "def N1plus(word):\n",
        "  return prefixWordCount[word]\n",
        "  "
      ],
      "execution_count": 0,
      "outputs": []
    },
    {
      "cell_type": "code",
      "metadata": {
        "id": "OfLLv2R8nj5E",
        "colab_type": "code",
        "outputId": "0d023e78-5830-4fec-9413-3dc3a843502a",
        "colab": {
          "base_uri": "https://localhost:8080/",
          "height": 52
        }
      },
      "source": [
        "print(\"N1+(.'york') = \"+str(N1plus('york')))\n",
        "print(\"N1+(.'matter') = \"+str(N1plus('matter')))"
      ],
      "execution_count": 0,
      "outputs": [
        {
          "output_type": "stream",
          "text": [
            "N1+(.'york') = 9\n",
            "N1+(.'matter') = 270\n"
          ],
          "name": "stdout"
        }
      ]
    },
    {
      "cell_type": "code",
      "metadata": {
        "id": "39DuTso7nLdM",
        "colab_type": "code",
        "colab": {}
      },
      "source": [
        "#is maximum likelihood estimation of the unigram probability (no smoothing)\n",
        "def logProbML(word):\n",
        "  probability=ugCount[(word,)]/len(one_gram)\n",
        "  return -1*math.log(probability, 2)"
      ],
      "execution_count": 0,
      "outputs": []
    },
    {
      "cell_type": "code",
      "metadata": {
        "id": "o9pPnAdooO3j",
        "colab_type": "code",
        "outputId": "707fb969-7a51-40fe-f570-2f55b1c59f84",
        "colab": {
          "base_uri": "https://localhost:8080/",
          "height": 52
        }
      },
      "source": [
        "print(\"-logPml('york') = \"+str(logProbML('york')))\n",
        "print(\"-logPml('matter') = \"+str(logProbML('matter')))"
      ],
      "execution_count": 0,
      "outputs": [
        {
          "output_type": "stream",
          "text": [
            "-logPml('york') = 12.258374283571047\n",
            "-logPml('matter') = 12.262634512478337\n"
          ],
          "name": "stdout"
        }
      ]
    },
    {
      "cell_type": "code",
      "metadata": {
        "id": "HnBFLmTwo12J",
        "colab_type": "code",
        "colab": {}
      },
      "source": [
        "#Lidstone-smoothed unigram probability\n",
        "def logProbLds(word,alpha=1):\n",
        "  probability=(alpha + ugCount[(word,)])/(alpha*len(vocab) + len(one_gram))\n",
        "  return -1*math.log(probability, 2)"
      ],
      "execution_count": 0,
      "outputs": []
    },
    {
      "cell_type": "code",
      "metadata": {
        "id": "mus_mm9m4RNW",
        "colab_type": "code",
        "outputId": "8b1907ad-bdec-446c-b433-36f34efc57ea",
        "colab": {
          "base_uri": "https://localhost:8080/",
          "height": 52
        }
      },
      "source": [
        "print(\"-logPlids('york') = \"+str(logProbLds('york')))\n",
        "print(\"-logPlids('matter') = \"+str(logProbLds('matter')))"
      ],
      "execution_count": 0,
      "outputs": [
        {
          "output_type": "stream",
          "text": [
            "-logPlids('york') = 12.268770360977008\n",
            "-logPlids('matter') = 12.27302879345373\n"
          ],
          "name": "stdout"
        }
      ]
    },
    {
      "cell_type": "code",
      "metadata": {
        "id": "0-Cu-ITO2WN7",
        "colab_type": "code",
        "colab": {}
      },
      "source": [
        "#the Kneser-Ney unigram probability defined in Equation (5).\n",
        "def logProbKn(word):\n",
        "  probability=N1plus(word)/len(bgCount)\n",
        "  return -1*math.log(probability, 2)"
      ],
      "execution_count": 0,
      "outputs": []
    },
    {
      "cell_type": "code",
      "metadata": {
        "id": "iss8Qh275m1N",
        "colab_type": "code",
        "outputId": "7b729e80-7f18-4136-bc77-2d9bc2b77657",
        "colab": {
          "base_uri": "https://localhost:8080/",
          "height": 52
        }
      },
      "source": [
        "print(\"-logPkn('york') = \"+str(logProbKn('york')))\n",
        "print(\"-logPkn('matter') = \"+str(logProbKn('matter')))"
      ],
      "execution_count": 0,
      "outputs": [
        {
          "output_type": "stream",
          "text": [
            "-logPkn('york') = 17.964084485236466\n",
            "-logPkn('matter') = 13.057193889627946\n"
          ],
          "name": "stdout"
        }
      ]
    }
  ]
}